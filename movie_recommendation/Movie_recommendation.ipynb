{
 "cells": [
  {
   "cell_type": "code",
   "execution_count": 5,
   "id": "d3d57698",
   "metadata": {},
   "outputs": [
    {
     "name": "stderr",
     "output_type": "stream",
     "text": [
      "C:\\Users\\hp\\AppData\\Local\\Temp\\ipykernel_12128\\1822223228.py:9: SettingWithCopyWarning: \n",
      "A value is trying to be set on a copy of a slice from a DataFrame\n",
      "\n",
      "See the caveats in the documentation: https://pandas.pydata.org/pandas-docs/stable/user_guide/indexing.html#returning-a-view-versus-a-copy\n",
      "  movie_data.fillna(\"\",inplace=True)\n"
     ]
    },
    {
     "name": "stdout",
     "output_type": "stream",
     "text": [
      " Enter your favourite movie name : iro man\n",
      "Movies suggested for you : \n",
      "\n",
      "1 . Birdman\n",
      "2 . 21 Grams\n",
      "3 . The Revenant\n",
      "4 . Amores perros\n",
      "5 . Babel\n",
      "6 . Biutiful\n",
      "7 . Youth in Revolt\n",
      "8 . The Painted Veil\n",
      "9 . Home Alone 2: Lost in New York\n",
      "10 . Kevin Hart: Let Me Explain\n",
      "11 . You Will Meet a Tall Dark Stranger\n",
      "12 . Money Train\n",
      "13 . Quinceañera\n",
      "14 . The Incredible Hulk\n",
      "15 . Death to Smoochy\n",
      "16 . Keeping the Faith\n",
      "17 . It's Kind of a Funny Story\n",
      "18 . Adore\n",
      "19 . Funny Games\n",
      "20 . Garden State\n",
      "21 . Whiplash\n",
      "22 . The Croods\n",
      "23 . The Taking of Pelham 1 2 3\n",
      "24 . J. Edgar\n",
      "25 . The Hangover Part II\n",
      "26 . Any Given Sunday\n",
      "27 . Moonrise Kingdom\n",
      "28 . Defendor\n",
      "29 . King Kong\n"
     ]
    }
   ],
   "source": [
    "import numpy as np\n",
    "import pandas as pd\n",
    "import difflib\n",
    "from sklearn.feature_extraction.text import TfidfVectorizer\n",
    "from sklearn.metrics.pairwise import cosine_similarity\n",
    "movies_data=pd.read_csv(\"movie.csv\")\n",
    "selected_features = ['genres','keywords','tagline','cast','director']\n",
    "movie_data=movies_data[selected_features]\n",
    "movie_data.fillna(\"\",inplace=True)\n",
    "combined_features = movie_data['genres']+' '+movie_data['keywords']+' '+movie_data['tagline']+' '+movie_data['cast']+' '+movie_data['director']\n",
    "vectorizer=TfidfVectorizer()\n",
    "feature_vectors = vectorizer.fit_transform(combined_features)\n",
    "similarity = cosine_similarity(feature_vectors)\n",
    "movie_name = input(' Enter your favourite movie name : ')\n",
    "list_of_all_titles = movies_data['title'].tolist()\n",
    "find_close_match = difflib.get_close_matches(movie_name, list_of_all_titles)\n",
    "close_match = find_close_match[0]\n",
    "index_of_the_movie = movies_data[movies_data.title == close_match]['index'].values[0]\n",
    "similarity_score = list(enumerate(similarity[index_of_the_movie]))\n",
    "sorted_similar_movies = sorted(similarity_score, key = lambda x:x[1], reverse = True) \n",
    "print('Movies suggested for you : \\n')\n",
    "i = 1\n",
    "for movie in sorted_similar_movies:\n",
    "    index = movie[0]\n",
    "    title_from_index = movies_data[movies_data.index==index]['title'].values[0]\n",
    "    if (i<30):\n",
    "        print(i, '.',title_from_index)\n",
    "        i+=1"
   ]
  },
  {
   "cell_type": "code",
   "execution_count": 2,
   "id": "6e1fa066",
   "metadata": {},
   "outputs": [],
   "source": [
    "import pickle\n",
    "with open(\"movies.pkl\",\"wb\") as f:\n",
    "    pickle.dump('title_from_index',f)"
   ]
  }
 ],
 "metadata": {
  "kernelspec": {
   "display_name": "Python 3 (ipykernel)",
   "language": "python",
   "name": "python3"
  },
  "language_info": {
   "codemirror_mode": {
    "name": "ipython",
    "version": 3
   },
   "file_extension": ".py",
   "mimetype": "text/x-python",
   "name": "python",
   "nbconvert_exporter": "python",
   "pygments_lexer": "ipython3",
   "version": "3.9.13"
  }
 },
 "nbformat": 4,
 "nbformat_minor": 5
}
