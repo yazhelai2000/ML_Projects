{
 "cells": [
  {
   "cell_type": "code",
   "execution_count": 2,
   "id": "46e4011e",
   "metadata": {},
   "outputs": [],
   "source": [
    "import quandl\n",
    "import pandas as pd\n",
    "import numpy as np\n",
    "import matplotlib.pyplot as plt\n",
    "from sklearn.linear_model import LinearRegression"
   ]
  },
  {
   "cell_type": "code",
   "execution_count": 3,
   "id": "08951f4d",
   "metadata": {},
   "outputs": [],
   "source": [
    "df=quandl.get(\"FRED/DCOILBRENTEU\",start_date=\"1847-05-01\",end_date=\"2022-10-01\")"
   ]
  },
  {
   "cell_type": "code",
   "execution_count": 4,
   "id": "648a012c",
   "metadata": {},
   "outputs": [
    {
     "ename": "NameError",
     "evalue": "name 'df1' is not defined",
     "output_type": "error",
     "traceback": [
      "\u001b[1;31m---------------------------------------------------------------------------\u001b[0m",
      "\u001b[1;31mNameError\u001b[0m                                 Traceback (most recent call last)",
      "\u001b[1;32m~\\AppData\\Local\\Temp\\ipykernel_12732\\350687285.py\u001b[0m in \u001b[0;36m<module>\u001b[1;34m\u001b[0m\n\u001b[1;32m----> 1\u001b[1;33m \u001b[0mdf1\u001b[0m\u001b[1;33m=\u001b[0m\u001b[0mdf1\u001b[0m\u001b[1;33m.\u001b[0m\u001b[0mset_index\u001b[0m\u001b[1;33m(\u001b[0m\u001b[1;34m\"date\"\u001b[0m\u001b[1;33m)\u001b[0m\u001b[1;33m\u001b[0m\u001b[1;33m\u001b[0m\u001b[0m\n\u001b[0m\u001b[0;32m      2\u001b[0m \u001b[1;33m\u001b[0m\u001b[0m\n\u001b[0;32m      3\u001b[0m \u001b[0md\u001b[0m\u001b[1;33m=\u001b[0m\u001b[0mpd\u001b[0m\u001b[1;33m.\u001b[0m\u001b[0mdate_range\u001b[0m\u001b[1;33m(\u001b[0m\u001b[0mstart\u001b[0m\u001b[1;33m=\u001b[0m\u001b[1;34m'1/1/2023'\u001b[0m\u001b[1;33m,\u001b[0m \u001b[0mend\u001b[0m\u001b[1;33m=\u001b[0m\u001b[1;34m'1/12/2023'\u001b[0m\u001b[1;33m)\u001b[0m\u001b[1;33m\u001b[0m\u001b[1;33m\u001b[0m\u001b[0m\n\u001b[0;32m      4\u001b[0m \u001b[1;33m\u001b[0m\u001b[0m\n\u001b[0;32m      5\u001b[0m \u001b[0mdf1\u001b[0m\u001b[1;33m=\u001b[0m\u001b[0mpd\u001b[0m\u001b[1;33m.\u001b[0m\u001b[0mDataFrame\u001b[0m\u001b[1;33m(\u001b[0m\u001b[0md\u001b[0m\u001b[1;33m,\u001b[0m\u001b[0mcolumns\u001b[0m\u001b[1;33m=\u001b[0m\u001b[1;33m[\u001b[0m\u001b[1;34m\"date\"\u001b[0m\u001b[1;33m]\u001b[0m\u001b[1;33m)\u001b[0m\u001b[1;33m\u001b[0m\u001b[1;33m\u001b[0m\u001b[0m\n",
      "\u001b[1;31mNameError\u001b[0m: name 'df1' is not defined"
     ]
    }
   ],
   "source": [
    "df1=df1.set_index(\"date\")\n",
    "\n",
    "d=pd.date_range(start='1/1/2023', end='1/12/2023')\n",
    "\n",
    "df1=pd.DataFrame(d,columns=[\"date\"])\n",
    "df1.shape\n",
    "\n",
    "df1.head()"
   ]
  },
  {
   "cell_type": "code",
   "execution_count": 22,
   "id": "d4d04576",
   "metadata": {},
   "outputs": [
    {
     "data": {
      "text/html": [
       "<div>\n",
       "<style scoped>\n",
       "    .dataframe tbody tr th:only-of-type {\n",
       "        vertical-align: middle;\n",
       "    }\n",
       "\n",
       "    .dataframe tbody tr th {\n",
       "        vertical-align: top;\n",
       "    }\n",
       "\n",
       "    .dataframe thead th {\n",
       "        text-align: right;\n",
       "    }\n",
       "</style>\n",
       "<table border=\"1\" class=\"dataframe\">\n",
       "  <thead>\n",
       "    <tr style=\"text-align: right;\">\n",
       "      <th></th>\n",
       "      <th>Value</th>\n",
       "      <th>ma4</th>\n",
       "      <th>ma10</th>\n",
       "    </tr>\n",
       "    <tr>\n",
       "      <th>Date</th>\n",
       "      <th></th>\n",
       "      <th></th>\n",
       "      <th></th>\n",
       "    </tr>\n",
       "  </thead>\n",
       "  <tbody>\n",
       "    <tr>\n",
       "      <th>1987-06-03</th>\n",
       "      <td>18.75</td>\n",
       "      <td>18.6275</td>\n",
       "      <td>18.597</td>\n",
       "    </tr>\n",
       "    <tr>\n",
       "      <th>1987-06-04</th>\n",
       "      <td>18.78</td>\n",
       "      <td>18.6650</td>\n",
       "      <td>18.609</td>\n",
       "    </tr>\n",
       "    <tr>\n",
       "      <th>1987-06-05</th>\n",
       "      <td>18.65</td>\n",
       "      <td>18.7150</td>\n",
       "      <td>18.642</td>\n",
       "    </tr>\n",
       "    <tr>\n",
       "      <th>1987-06-08</th>\n",
       "      <td>18.75</td>\n",
       "      <td>18.7150</td>\n",
       "      <td>18.652</td>\n",
       "    </tr>\n",
       "    <tr>\n",
       "      <th>1987-06-09</th>\n",
       "      <td>18.78</td>\n",
       "      <td>18.7325</td>\n",
       "      <td>18.667</td>\n",
       "    </tr>\n",
       "  </tbody>\n",
       "</table>\n",
       "</div>"
      ],
      "text/plain": [
       "            Value      ma4    ma10\n",
       "Date                              \n",
       "1987-06-03  18.75  18.6275  18.597\n",
       "1987-06-04  18.78  18.6650  18.609\n",
       "1987-06-05  18.65  18.7150  18.642\n",
       "1987-06-08  18.75  18.7150  18.652\n",
       "1987-06-09  18.78  18.7325  18.667"
      ]
     },
     "execution_count": 22,
     "metadata": {},
     "output_type": "execute_result"
    }
   ],
   "source": [
    "df.head()"
   ]
  },
  {
   "cell_type": "code",
   "execution_count": 5,
   "id": "469bd66e",
   "metadata": {
    "scrolled": true
   },
   "outputs": [
    {
     "data": {
      "text/plain": [
       "(8887, 1)"
      ]
     },
     "execution_count": 5,
     "metadata": {},
     "output_type": "execute_result"
    }
   ],
   "source": [
    "df.shape"
   ]
  },
  {
   "cell_type": "code",
   "execution_count": 6,
   "id": "0294d4f8",
   "metadata": {},
   "outputs": [
    {
     "data": {
      "text/html": [
       "<div>\n",
       "<style scoped>\n",
       "    .dataframe tbody tr th:only-of-type {\n",
       "        vertical-align: middle;\n",
       "    }\n",
       "\n",
       "    .dataframe tbody tr th {\n",
       "        vertical-align: top;\n",
       "    }\n",
       "\n",
       "    .dataframe thead th {\n",
       "        text-align: right;\n",
       "    }\n",
       "</style>\n",
       "<table border=\"1\" class=\"dataframe\">\n",
       "  <thead>\n",
       "    <tr style=\"text-align: right;\">\n",
       "      <th></th>\n",
       "      <th>Value</th>\n",
       "    </tr>\n",
       "  </thead>\n",
       "  <tbody>\n",
       "    <tr>\n",
       "      <th>count</th>\n",
       "      <td>8887.000000</td>\n",
       "    </tr>\n",
       "    <tr>\n",
       "      <th>mean</th>\n",
       "      <td>47.654745</td>\n",
       "    </tr>\n",
       "    <tr>\n",
       "      <th>std</th>\n",
       "      <td>32.402911</td>\n",
       "    </tr>\n",
       "    <tr>\n",
       "      <th>min</th>\n",
       "      <td>9.100000</td>\n",
       "    </tr>\n",
       "    <tr>\n",
       "      <th>25%</th>\n",
       "      <td>18.985000</td>\n",
       "    </tr>\n",
       "    <tr>\n",
       "      <th>50%</th>\n",
       "      <td>36.850000</td>\n",
       "    </tr>\n",
       "    <tr>\n",
       "      <th>75%</th>\n",
       "      <td>68.935000</td>\n",
       "    </tr>\n",
       "    <tr>\n",
       "      <th>max</th>\n",
       "      <td>143.950000</td>\n",
       "    </tr>\n",
       "  </tbody>\n",
       "</table>\n",
       "</div>"
      ],
      "text/plain": [
       "             Value\n",
       "count  8887.000000\n",
       "mean     47.654745\n",
       "std      32.402911\n",
       "min       9.100000\n",
       "25%      18.985000\n",
       "50%      36.850000\n",
       "75%      68.935000\n",
       "max     143.950000"
      ]
     },
     "execution_count": 6,
     "metadata": {},
     "output_type": "execute_result"
    }
   ],
   "source": [
    "df.describe()"
   ]
  },
  {
   "cell_type": "code",
   "execution_count": 7,
   "id": "6a180dbe",
   "metadata": {},
   "outputs": [
    {
     "data": {
      "text/plain": [
       "Value    0\n",
       "dtype: int64"
      ]
     },
     "execution_count": 7,
     "metadata": {},
     "output_type": "execute_result"
    }
   ],
   "source": [
    "df.isnull().sum()"
   ]
  },
  {
   "cell_type": "code",
   "execution_count": 8,
   "id": "df188fe3",
   "metadata": {
    "scrolled": false
   },
   "outputs": [
    {
     "data": {
      "text/plain": [
       "<AxesSubplot:xlabel='Date'>"
      ]
     },
     "execution_count": 8,
     "metadata": {},
     "output_type": "execute_result"
    },
    {
     "data": {
      "image/png": "[encoded data removed]",
      "text/plain": [
       "<Figure size 1000x500 with 1 Axes>"
      ]
     },
     "metadata": {},
     "output_type": "display_data"
    }
   ],
   "source": [
    "df.Value.plot(figsize=(10,5))"
   ]
  },
  {
   "cell_type": "code",
   "execution_count": 9,
   "id": "45da1ac0",
   "metadata": {},
   "outputs": [
    {
     "ename": "NameError",
     "evalue": "name 'df1' is not defined",
     "output_type": "error",
     "traceback": [
      "\u001b[1;31m---------------------------------------------------------------------------\u001b[0m",
      "\u001b[1;31mNameError\u001b[0m                                 Traceback (most recent call last)",
      "\u001b[1;32m~\\AppData\\Local\\Temp\\ipykernel_12732\\2674421001.py\u001b[0m in \u001b[0;36m<module>\u001b[1;34m\u001b[0m\n\u001b[1;32m----> 1\u001b[1;33m \u001b[0mdf2\u001b[0m\u001b[1;33m=\u001b[0m\u001b[0mpd\u001b[0m\u001b[1;33m.\u001b[0m\u001b[0mconcat\u001b[0m\u001b[1;33m(\u001b[0m\u001b[1;33m[\u001b[0m\u001b[0mdf\u001b[0m\u001b[1;33m,\u001b[0m\u001b[0mdf1\u001b[0m\u001b[1;33m]\u001b[0m\u001b[1;33m,\u001b[0m\u001b[0maxis\u001b[0m\u001b[1;33m=\u001b[0m\u001b[1;36m0\u001b[0m\u001b[1;33m)\u001b[0m\u001b[1;33m\u001b[0m\u001b[1;33m\u001b[0m\u001b[0m\n\u001b[0m\u001b[0;32m      2\u001b[0m \u001b[1;33m\u001b[0m\u001b[0m\n\u001b[0;32m      3\u001b[0m \u001b[0mdf\u001b[0m\u001b[1;33m=\u001b[0m\u001b[0mdf2\u001b[0m\u001b[1;33m.\u001b[0m\u001b[0mcopy\u001b[0m\u001b[1;33m(\u001b[0m\u001b[1;33m)\u001b[0m\u001b[1;33m\u001b[0m\u001b[1;33m\u001b[0m\u001b[0m\n",
      "\u001b[1;31mNameError\u001b[0m: name 'df1' is not defined"
     ]
    }
   ],
   "source": [
    "df2=pd.concat([df,df1],axis=0)\n",
    "\n",
    "df=df2.copy()"
   ]
  },
  {
   "cell_type": "code",
   "execution_count": 10,
   "id": "cecf3dd8",
   "metadata": {},
   "outputs": [],
   "source": [
    "#finding the moving average\n",
    "df[\"ma4\"]=df[\"Value\"].shift(1).rolling(window=4).mean()"
   ]
  },
  {
   "cell_type": "code",
   "execution_count": 11,
   "id": "61d3a22f",
   "metadata": {},
   "outputs": [],
   "source": [
    "df[\"ma10\"]=df[\"Value\"].shift(1).rolling(window=10).mean()"
   ]
  },
  {
   "cell_type": "code",
   "execution_count": 12,
   "id": "344c0d49",
   "metadata": {},
   "outputs": [
    {
     "data": {
      "text/html": [
       "<div>\n",
       "<style scoped>\n",
       "    .dataframe tbody tr th:only-of-type {\n",
       "        vertical-align: middle;\n",
       "    }\n",
       "\n",
       "    .dataframe tbody tr th {\n",
       "        vertical-align: top;\n",
       "    }\n",
       "\n",
       "    .dataframe thead th {\n",
       "        text-align: right;\n",
       "    }\n",
       "</style>\n",
       "<table border=\"1\" class=\"dataframe\">\n",
       "  <thead>\n",
       "    <tr style=\"text-align: right;\">\n",
       "      <th></th>\n",
       "      <th>Value</th>\n",
       "      <th>ma4</th>\n",
       "      <th>ma10</th>\n",
       "    </tr>\n",
       "    <tr>\n",
       "      <th>Date</th>\n",
       "      <th></th>\n",
       "      <th></th>\n",
       "      <th></th>\n",
       "    </tr>\n",
       "  </thead>\n",
       "  <tbody>\n",
       "    <tr>\n",
       "      <th>2022-04-25</th>\n",
       "      <td>99.27</td>\n",
       "      <td>105.7225</td>\n",
       "      <td>104.564</td>\n",
       "    </tr>\n",
       "    <tr>\n",
       "      <th>2022-04-26</th>\n",
       "      <td>102.89</td>\n",
       "      <td>104.1675</td>\n",
       "      <td>104.508</td>\n",
       "    </tr>\n",
       "    <tr>\n",
       "      <th>2022-04-27</th>\n",
       "      <td>103.30</td>\n",
       "      <td>103.6275</td>\n",
       "      <td>104.671</td>\n",
       "    </tr>\n",
       "    <tr>\n",
       "      <th>2022-04-28</th>\n",
       "      <td>105.78</td>\n",
       "      <td>102.6525</td>\n",
       "      <td>105.209</td>\n",
       "    </tr>\n",
       "    <tr>\n",
       "      <th>2022-04-29</th>\n",
       "      <td>108.36</td>\n",
       "      <td>102.8100</td>\n",
       "      <td>105.345</td>\n",
       "    </tr>\n",
       "    <tr>\n",
       "      <th>2022-05-03</th>\n",
       "      <td>104.94</td>\n",
       "      <td>105.0825</td>\n",
       "      <td>105.332</td>\n",
       "    </tr>\n",
       "    <tr>\n",
       "      <th>2022-05-04</th>\n",
       "      <td>110.53</td>\n",
       "      <td>105.5950</td>\n",
       "      <td>104.743</td>\n",
       "    </tr>\n",
       "    <tr>\n",
       "      <th>2022-05-05</th>\n",
       "      <td>112.11</td>\n",
       "      <td>107.4025</td>\n",
       "      <td>105.247</td>\n",
       "    </tr>\n",
       "    <tr>\n",
       "      <th>2022-05-06</th>\n",
       "      <td>113.86</td>\n",
       "      <td>108.9850</td>\n",
       "      <td>105.953</td>\n",
       "    </tr>\n",
       "    <tr>\n",
       "      <th>2022-05-09</th>\n",
       "      <td>106.67</td>\n",
       "      <td>110.3600</td>\n",
       "      <td>106.619</td>\n",
       "    </tr>\n",
       "    <tr>\n",
       "      <th>2022-05-10</th>\n",
       "      <td>102.61</td>\n",
       "      <td>110.7925</td>\n",
       "      <td>106.771</td>\n",
       "    </tr>\n",
       "    <tr>\n",
       "      <th>2022-05-11</th>\n",
       "      <td>107.70</td>\n",
       "      <td>108.8125</td>\n",
       "      <td>107.105</td>\n",
       "    </tr>\n",
       "    <tr>\n",
       "      <th>2022-05-12</th>\n",
       "      <td>108.06</td>\n",
       "      <td>107.7100</td>\n",
       "      <td>107.586</td>\n",
       "    </tr>\n",
       "    <tr>\n",
       "      <th>2022-05-13</th>\n",
       "      <td>112.12</td>\n",
       "      <td>106.2600</td>\n",
       "      <td>108.062</td>\n",
       "    </tr>\n",
       "    <tr>\n",
       "      <th>2022-05-16</th>\n",
       "      <td>114.86</td>\n",
       "      <td>107.6225</td>\n",
       "      <td>108.696</td>\n",
       "    </tr>\n",
       "    <tr>\n",
       "      <th>2022-05-17</th>\n",
       "      <td>112.89</td>\n",
       "      <td>110.6850</td>\n",
       "      <td>109.346</td>\n",
       "    </tr>\n",
       "    <tr>\n",
       "      <th>2022-05-18</th>\n",
       "      <td>110.04</td>\n",
       "      <td>111.9825</td>\n",
       "      <td>110.141</td>\n",
       "    </tr>\n",
       "    <tr>\n",
       "      <th>2022-05-19</th>\n",
       "      <td>113.22</td>\n",
       "      <td>112.4775</td>\n",
       "      <td>110.092</td>\n",
       "    </tr>\n",
       "    <tr>\n",
       "      <th>2022-05-20</th>\n",
       "      <td>113.63</td>\n",
       "      <td>112.7525</td>\n",
       "      <td>110.203</td>\n",
       "    </tr>\n",
       "    <tr>\n",
       "      <th>2022-05-23</th>\n",
       "      <td>115.13</td>\n",
       "      <td>112.4450</td>\n",
       "      <td>110.180</td>\n",
       "    </tr>\n",
       "  </tbody>\n",
       "</table>\n",
       "</div>"
      ],
      "text/plain": [
       "             Value       ma4     ma10\n",
       "Date                                 \n",
       "2022-04-25   99.27  105.7225  104.564\n",
       "2022-04-26  102.89  104.1675  104.508\n",
       "2022-04-27  103.30  103.6275  104.671\n",
       "2022-04-28  105.78  102.6525  105.209\n",
       "2022-04-29  108.36  102.8100  105.345\n",
       "2022-05-03  104.94  105.0825  105.332\n",
       "2022-05-04  110.53  105.5950  104.743\n",
       "2022-05-05  112.11  107.4025  105.247\n",
       "2022-05-06  113.86  108.9850  105.953\n",
       "2022-05-09  106.67  110.3600  106.619\n",
       "2022-05-10  102.61  110.7925  106.771\n",
       "2022-05-11  107.70  108.8125  107.105\n",
       "2022-05-12  108.06  107.7100  107.586\n",
       "2022-05-13  112.12  106.2600  108.062\n",
       "2022-05-16  114.86  107.6225  108.696\n",
       "2022-05-17  112.89  110.6850  109.346\n",
       "2022-05-18  110.04  111.9825  110.141\n",
       "2022-05-19  113.22  112.4775  110.092\n",
       "2022-05-20  113.63  112.7525  110.203\n",
       "2022-05-23  115.13  112.4450  110.180"
      ]
     },
     "execution_count": 12,
     "metadata": {},
     "output_type": "execute_result"
    }
   ],
   "source": [
    "df.tail(20)"
   ]
  },
  {
   "cell_type": "code",
   "execution_count": 13,
   "id": "8669872f",
   "metadata": {},
   "outputs": [],
   "source": [
    "df.dropna(axis=0,inplace=True)"
   ]
  },
  {
   "cell_type": "code",
   "execution_count": 14,
   "id": "927d0ebc",
   "metadata": {},
   "outputs": [
    {
     "data": {
      "text/html": [
       "<div>\n",
       "<style scoped>\n",
       "    .dataframe tbody tr th:only-of-type {\n",
       "        vertical-align: middle;\n",
       "    }\n",
       "\n",
       "    .dataframe tbody tr th {\n",
       "        vertical-align: top;\n",
       "    }\n",
       "\n",
       "    .dataframe thead th {\n",
       "        text-align: right;\n",
       "    }\n",
       "</style>\n",
       "<table border=\"1\" class=\"dataframe\">\n",
       "  <thead>\n",
       "    <tr style=\"text-align: right;\">\n",
       "      <th></th>\n",
       "      <th>Value</th>\n",
       "      <th>ma4</th>\n",
       "      <th>ma10</th>\n",
       "    </tr>\n",
       "    <tr>\n",
       "      <th>Date</th>\n",
       "      <th></th>\n",
       "      <th></th>\n",
       "      <th></th>\n",
       "    </tr>\n",
       "  </thead>\n",
       "  <tbody>\n",
       "    <tr>\n",
       "      <th>1987-06-03</th>\n",
       "      <td>18.75</td>\n",
       "      <td>18.6275</td>\n",
       "      <td>18.597</td>\n",
       "    </tr>\n",
       "    <tr>\n",
       "      <th>1987-06-04</th>\n",
       "      <td>18.78</td>\n",
       "      <td>18.6650</td>\n",
       "      <td>18.609</td>\n",
       "    </tr>\n",
       "    <tr>\n",
       "      <th>1987-06-05</th>\n",
       "      <td>18.65</td>\n",
       "      <td>18.7150</td>\n",
       "      <td>18.642</td>\n",
       "    </tr>\n",
       "    <tr>\n",
       "      <th>1987-06-08</th>\n",
       "      <td>18.75</td>\n",
       "      <td>18.7150</td>\n",
       "      <td>18.652</td>\n",
       "    </tr>\n",
       "    <tr>\n",
       "      <th>1987-06-09</th>\n",
       "      <td>18.78</td>\n",
       "      <td>18.7325</td>\n",
       "      <td>18.667</td>\n",
       "    </tr>\n",
       "  </tbody>\n",
       "</table>\n",
       "</div>"
      ],
      "text/plain": [
       "            Value      ma4    ma10\n",
       "Date                              \n",
       "1987-06-03  18.75  18.6275  18.597\n",
       "1987-06-04  18.78  18.6650  18.609\n",
       "1987-06-05  18.65  18.7150  18.642\n",
       "1987-06-08  18.75  18.7150  18.652\n",
       "1987-06-09  18.78  18.7325  18.667"
      ]
     },
     "execution_count": 14,
     "metadata": {},
     "output_type": "execute_result"
    }
   ],
   "source": [
    "df.head()"
   ]
  },
  {
   "cell_type": "code",
   "execution_count": 15,
   "id": "e58cea20",
   "metadata": {},
   "outputs": [],
   "source": [
    "#created target variable\n",
    "x=df[[\"ma4\",\"ma10\"]]\n",
    "y=df[\"Value\"]"
   ]
  },
  {
   "cell_type": "code",
   "execution_count": 16,
   "id": "dcc2c864",
   "metadata": {},
   "outputs": [
    {
     "data": {
      "text/html": [
       "<div>\n",
       "<style scoped>\n",
       "    .dataframe tbody tr th:only-of-type {\n",
       "        vertical-align: middle;\n",
       "    }\n",
       "\n",
       "    .dataframe tbody tr th {\n",
       "        vertical-align: top;\n",
       "    }\n",
       "\n",
       "    .dataframe thead th {\n",
       "        text-align: right;\n",
       "    }\n",
       "</style>\n",
       "<table border=\"1\" class=\"dataframe\">\n",
       "  <thead>\n",
       "    <tr style=\"text-align: right;\">\n",
       "      <th></th>\n",
       "      <th>ma4</th>\n",
       "      <th>ma10</th>\n",
       "    </tr>\n",
       "    <tr>\n",
       "      <th>Date</th>\n",
       "      <th></th>\n",
       "      <th></th>\n",
       "    </tr>\n",
       "  </thead>\n",
       "  <tbody>\n",
       "    <tr>\n",
       "      <th>1987-06-03</th>\n",
       "      <td>18.6275</td>\n",
       "      <td>18.597</td>\n",
       "    </tr>\n",
       "    <tr>\n",
       "      <th>1987-06-04</th>\n",
       "      <td>18.6650</td>\n",
       "      <td>18.609</td>\n",
       "    </tr>\n",
       "    <tr>\n",
       "      <th>1987-06-05</th>\n",
       "      <td>18.7150</td>\n",
       "      <td>18.642</td>\n",
       "    </tr>\n",
       "    <tr>\n",
       "      <th>1987-06-08</th>\n",
       "      <td>18.7150</td>\n",
       "      <td>18.652</td>\n",
       "    </tr>\n",
       "    <tr>\n",
       "      <th>1987-06-09</th>\n",
       "      <td>18.7325</td>\n",
       "      <td>18.667</td>\n",
       "    </tr>\n",
       "  </tbody>\n",
       "</table>\n",
       "</div>"
      ],
      "text/plain": [
       "                ma4    ma10\n",
       "Date                       \n",
       "1987-06-03  18.6275  18.597\n",
       "1987-06-04  18.6650  18.609\n",
       "1987-06-05  18.7150  18.642\n",
       "1987-06-08  18.7150  18.652\n",
       "1987-06-09  18.7325  18.667"
      ]
     },
     "execution_count": 16,
     "metadata": {},
     "output_type": "execute_result"
    }
   ],
   "source": [
    "x.head()"
   ]
  },
  {
   "cell_type": "code",
   "execution_count": 17,
   "id": "b1b391a1",
   "metadata": {},
   "outputs": [
    {
     "data": {
      "text/plain": [
       "Date\n",
       "1987-06-03    18.75\n",
       "1987-06-04    18.78\n",
       "1987-06-05    18.65\n",
       "1987-06-08    18.75\n",
       "1987-06-09    18.78\n",
       "Name: Value, dtype: float64"
      ]
     },
     "execution_count": 17,
     "metadata": {},
     "output_type": "execute_result"
    }
   ],
   "source": [
    "y.head()"
   ]
  },
  {
   "cell_type": "code",
   "execution_count": 18,
   "id": "69607bd8",
   "metadata": {},
   "outputs": [],
   "source": [
    "from sklearn.model_selection import train_test_split\n",
    "x_train,x_test,y_train,y_test=train_test_split(x,y,test_size=0.3)"
   ]
  },
  {
   "cell_type": "code",
   "execution_count": 19,
   "id": "1ea72944",
   "metadata": {},
   "outputs": [
    {
     "data": {
      "text/plain": [
       "LinearRegression()"
      ]
     },
     "execution_count": 19,
     "metadata": {},
     "output_type": "execute_result"
    }
   ],
   "source": [
    "model=LinearRegression()\n",
    "model.fit(x_train,y_train)"
   ]
  },
  {
   "cell_type": "code",
   "execution_count": 20,
   "id": "739d132e",
   "metadata": {},
   "outputs": [
    {
     "data": {
      "text/plain": [
       "0.9976609453482824"
      ]
     },
     "execution_count": 20,
     "metadata": {},
     "output_type": "execute_result"
    }
   ],
   "source": [
    "model.score(x_test,y_test)"
   ]
  },
  {
   "cell_type": "code",
   "execution_count": 21,
   "id": "97c1072a",
   "metadata": {},
   "outputs": [
    {
     "data": {
      "image/png": "[encoded data removed]",
      "text/plain": [
       "<Figure size 1000x500 with 1 Axes>"
      ]
     },
     "metadata": {},
     "output_type": "display_data"
    }
   ],
   "source": [
    "y_pred=model.predict(x_test)\n",
    "df1=pd.DataFrame(y_pred,index=y_test.index,columns = [\"price\"])\n",
    "df1.plot(figsize=(10,5))\n",
    "y_test.plot()\n",
    "plt.legend([\"y_pred\",\"actual\"])\n",
    "plt.show()"
   ]
  },
  {
   "cell_type": "code",
   "execution_count": null,
   "id": "4648f560",
   "metadata": {},
   "outputs": [],
   "source": []
  },
  {
   "cell_type": "code",
   "execution_count": null,
   "id": "3707fa55",
   "metadata": {},
   "outputs": [],
   "source": []
  },
  {
   "cell_type": "code",
   "execution_count": null,
   "id": "5d7a1b06",
   "metadata": {},
   "outputs": [],
   "source": []
  }
 ],
 "metadata": {
  "kernelspec": {
   "display_name": "Python 3 (ipykernel)",
   "language": "python",
   "name": "python3"
  },
  "language_info": {
   "codemirror_mode": {
    "name": "ipython",
    "version": 3
   },
   "file_extension": ".py",
   "mimetype": "text/x-python",
   "name": "python",
   "nbconvert_exporter": "python",
   "pygments_lexer": "ipython3",
   "version": "3.9.13"
  }
 },
 "nbformat": 4,
 "nbformat_minor": 5
}
