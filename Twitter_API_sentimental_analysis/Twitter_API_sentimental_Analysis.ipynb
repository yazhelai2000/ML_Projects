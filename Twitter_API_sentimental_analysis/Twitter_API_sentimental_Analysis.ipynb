{
 "cells": [
  {
   "cell_type": "markdown",
   "id": "f5f7948c",
   "metadata": {},
   "source": [
    "# Using Twitter API and extracting the live tweet and analysis the sentimental "
   ]
  },
  {
   "cell_type": "markdown",
   "id": "4f1a0943",
   "metadata": {},
   "source": [
    "## For the below detail  Reference taken from skillcate youtube video https://youtu.be/fQLa40L_BWA  "
   ]
  },
  {
   "cell_type": "code",
   "execution_count": 4,
   "id": "4365aa55",
   "metadata": {},
   "outputs": [],
   "source": [
    "# bearer key: <key>\n",
    "# api key: <key>\n",
    "# api key secret :<key>\n",
    "# access token: <key>\n",
    "# access token secret : <key>\n",
    "# client id : <key>\n",
    "# client id secret:<key>"
   ]
  },
  {
   "cell_type": "code",
   "execution_count": 6,
   "id": "979f8bb4",
   "metadata": {},
   "outputs": [
    {
     "name": "stderr",
     "output_type": "stream",
     "text": [
      "[nltk_data] Downloading package vader_lexicon to\n",
      "[nltk_data]     C:\\Users\\GK\\AppData\\Roaming\\nltk_data...\n",
      "[nltk_data]   Package vader_lexicon is already up-to-date!\n"
     ]
    }
   ],
   "source": [
    "#importing the neccesary libraries\n",
    "import tweepy\n",
    "import pandas as pd\n",
    "import re\n",
    "from nltk.sentiment.vader import SentimentIntensityAnalyzer\n",
    "from textblob import TextBlob\n",
    "import nltk\n",
    "nltk.download('vader_lexicon')\n",
    "import numpy as np\n",
    "from PIL import Image\n",
    "from wordcloud import WordCloud, STOPWORDS\n",
    "import matplotlib.pyplot as plt\n",
    "from sklearn.feature_extraction.text import CountVectorizer\n",
    "from sklearn.naive_bayes import MultinomialNB,BernoulliNB,GaussianNB"
   ]
  },
  {
   "cell_type": "code",
   "execution_count": 7,
   "id": "39fd0f78",
   "metadata": {},
   "outputs": [],
   "source": [
    "#Put your Bearer Token in the parenthesis below\n",
    "tweet=tweepy.Client(bearer_token=\"AAAAAAAAAAAAAAAAAAAAAEL3jQEAAAAAqHzTdrurr8FcccKr6FpHf5TGcGQ%3D6FYTE5wDytYTLmjxlOx3MPNoGXZBvWXBO8AYl61VDoiobpct4L\")"
   ]
  },
  {
   "cell_type": "markdown",
   "id": "55a8e4e6",
   "metadata": {},
   "source": [
    "# Pull tweets from twitter"
   ]
  },
  {
   "cell_type": "code",
   "execution_count": 8,
   "id": "fa4690b2",
   "metadata": {},
   "outputs": [],
   "source": [
    "query = '#apple -is:retweet lang:en'\n",
    "paginator = tweepy.Paginator(\n",
    "    tweet.search_recent_tweets,           # The method you want to use\n",
    "    query=query,                           # Some argument for this method\n",
    "    max_results=100,                       # How many tweets per page\n",
    "    limit=100                               # How many pages to retrieve\n",
    ")\n",
    "# Get tweets that contain the hashtag #TypeKeywordHere\n",
    "# -is:retweet means I don't want retweets\n",
    "# lang:en is asking for the tweets to be in english\n",
    "tweet_list = []\n",
    "for tweet in paginator.flatten(): # Total number of tweets to retrieve\n",
    "    tweet_list.append(tweet)"
   ]
  },
  {
   "cell_type": "code",
   "execution_count": 9,
   "id": "647bd49a",
   "metadata": {},
   "outputs": [
    {
     "data": {
      "text/html": [
       "<div>\n",
       "<style scoped>\n",
       "    .dataframe tbody tr th:only-of-type {\n",
       "        vertical-align: middle;\n",
       "    }\n",
       "\n",
       "    .dataframe tbody tr th {\n",
       "        vertical-align: top;\n",
       "    }\n",
       "\n",
       "    .dataframe thead th {\n",
       "        text-align: right;\n",
       "    }\n",
       "</style>\n",
       "<table border=\"1\" class=\"dataframe\">\n",
       "  <thead>\n",
       "    <tr style=\"text-align: right;\">\n",
       "      <th></th>\n",
       "      <th>text</th>\n",
       "    </tr>\n",
       "  </thead>\n",
       "  <tbody>\n",
       "    <tr>\n",
       "      <th>0</th>\n",
       "      <td>Australia Win Series As Smith Misses Century \\...</td>\n",
       "    </tr>\n",
       "    <tr>\n",
       "      <th>1</th>\n",
       "      <td>The Two&amp;amp;Storey Apple Pacific Centre Store ...</td>\n",
       "    </tr>\n",
       "    <tr>\n",
       "      <th>2</th>\n",
       "      <td>#NowPlaying: Ground Zero  - 9/27/22: KHOSTA 2 ...</td>\n",
       "    </tr>\n",
       "    <tr>\n",
       "      <th>3</th>\n",
       "      <td>Get Excited iphone Lovers! iphone 14 Pro Max w...</td>\n",
       "    </tr>\n",
       "    <tr>\n",
       "      <th>4</th>\n",
       "      <td>Content analysis:\\nThis article scores 86/100....</td>\n",
       "    </tr>\n",
       "  </tbody>\n",
       "</table>\n",
       "</div>"
      ],
      "text/plain": [
       "                                                text\n",
       "0  Australia Win Series As Smith Misses Century \\...\n",
       "1  The Two&amp;Storey Apple Pacific Centre Store ...\n",
       "2  #NowPlaying: Ground Zero  - 9/27/22: KHOSTA 2 ...\n",
       "3  Get Excited iphone Lovers! iphone 14 Pro Max w...\n",
       "4  Content analysis:\\nThis article scores 86/100...."
      ]
     },
     "execution_count": 9,
     "metadata": {},
     "output_type": "execute_result"
    }
   ],
   "source": [
    "#Creating new dataframe and new features\n",
    "tweet_list_df = pd.DataFrame(tweet_list)\n",
    "tweet_list_df = pd.DataFrame(tweet_list_df['text'])\n",
    "tweet_list_df.head(5)"
   ]
  },
  {
   "cell_type": "code",
   "execution_count": 10,
   "id": "3e7b5e27",
   "metadata": {},
   "outputs": [],
   "source": [
    "def preprocess_tweet(sen):\n",
    "    '''Cleans text data up, leaving only 2 or more char long non-stepwords composed of A-Z & a-z only\n",
    "    in lowercase'''\n",
    "    \n",
    "    sentence = sen.lower()\n",
    "\n",
    "    # Remove RT\n",
    "    sentence = re.sub('RT @\\w+: ',\" \", sentence)\n",
    "\n",
    "    # Remove special characters\n",
    "    sentence = re.sub(\"(@[A-Za-z0-9]+)|([^0-9A-Za-z \\t])|(\\w+:\\/\\/\\S+)\",\" \", sentence)\n",
    "\n",
    "    # Single character removal\n",
    "    sentence = re.sub(r\"\\s+[a-zA-Z]\\s+\", ' ', sentence)  # When we remove apostrophe from the word \"Mark's\", the apostrophe is replaced by an empty space. Hence, we are left with single character \"s\" that we are removing here.\n",
    "\n",
    "    # Remove multiple spaces\n",
    "    sentence = re.sub(r'\\s+', ' ', sentence)  # Next, we remove all the single characters and replace it by a space which creates multiple spaces in our text. Finally, we remove the multiple spaces from our text as well.\n",
    "\n",
    "    return sentence"
   ]
  },
  {
   "cell_type": "code",
   "execution_count": 11,
   "id": "63ab6d00",
   "metadata": {},
   "outputs": [
    {
     "data": {
      "text/html": [
       "<div>\n",
       "<style scoped>\n",
       "    .dataframe tbody tr th:only-of-type {\n",
       "        vertical-align: middle;\n",
       "    }\n",
       "\n",
       "    .dataframe tbody tr th {\n",
       "        vertical-align: top;\n",
       "    }\n",
       "\n",
       "    .dataframe thead th {\n",
       "        text-align: right;\n",
       "    }\n",
       "</style>\n",
       "<table border=\"1\" class=\"dataframe\">\n",
       "  <thead>\n",
       "    <tr style=\"text-align: right;\">\n",
       "      <th></th>\n",
       "      <th>text</th>\n",
       "      <th>cleaned</th>\n",
       "    </tr>\n",
       "  </thead>\n",
       "  <tbody>\n",
       "    <tr>\n",
       "      <th>0</th>\n",
       "      <td>Australia Win Series As Smith Misses Century \\...</td>\n",
       "      <td>australia win series as smith misses century s...</td>\n",
       "    </tr>\n",
       "    <tr>\n",
       "      <th>1</th>\n",
       "      <td>The Two&amp;amp;Storey Apple Pacific Centre Store ...</td>\n",
       "      <td>the two amp storey apple pacific centre store ...</td>\n",
       "    </tr>\n",
       "    <tr>\n",
       "      <th>2</th>\n",
       "      <td>#NowPlaying: Ground Zero  - 9/27/22: KHOSTA 2 ...</td>\n",
       "      <td>nowplaying ground zero 9 27 22 khosta 2 the d...</td>\n",
       "    </tr>\n",
       "    <tr>\n",
       "      <th>3</th>\n",
       "      <td>Get Excited iphone Lovers! iphone 14 Pro Max w...</td>\n",
       "      <td>get excited iphone lovers iphone 14 pro max wi...</td>\n",
       "    </tr>\n",
       "    <tr>\n",
       "      <th>4</th>\n",
       "      <td>Content analysis:\\nThis article scores 86/100....</td>\n",
       "      <td>content analysis this article scores 86 100 th...</td>\n",
       "    </tr>\n",
       "  </tbody>\n",
       "</table>\n",
       "</div>"
      ],
      "text/plain": [
       "                                                text  \\\n",
       "0  Australia Win Series As Smith Misses Century \\...   \n",
       "1  The Two&amp;Storey Apple Pacific Centre Store ...   \n",
       "2  #NowPlaying: Ground Zero  - 9/27/22: KHOSTA 2 ...   \n",
       "3  Get Excited iphone Lovers! iphone 14 Pro Max w...   \n",
       "4  Content analysis:\\nThis article scores 86/100....   \n",
       "\n",
       "                                             cleaned  \n",
       "0  australia win series as smith misses century s...  \n",
       "1  the two amp storey apple pacific centre store ...  \n",
       "2   nowplaying ground zero 9 27 22 khosta 2 the d...  \n",
       "3  get excited iphone lovers iphone 14 pro max wi...  \n",
       "4  content analysis this article scores 86 100 th...  "
      ]
     },
     "execution_count": 11,
     "metadata": {},
     "output_type": "execute_result"
    }
   ],
   "source": [
    "#cleaned tweet merging the data to the dataframe\n",
    "cleaned_tweets = []\n",
    "for tweet in tweet_list_df['text']:\n",
    "    cleaned_tweet = preprocess_tweet(tweet)\n",
    "    cleaned_tweets.append(cleaned_tweet)\n",
    "tweet_list_df['cleaned'] = pd.DataFrame(cleaned_tweets)\n",
    "tweet_list_df.head(5)"
   ]
  },
  {
   "cell_type": "code",
   "execution_count": 12,
   "id": "64b79daf",
   "metadata": {},
   "outputs": [
    {
     "data": {
      "text/html": [
       "<div>\n",
       "<style scoped>\n",
       "    .dataframe tbody tr th:only-of-type {\n",
       "        vertical-align: middle;\n",
       "    }\n",
       "\n",
       "    .dataframe tbody tr th {\n",
       "        vertical-align: top;\n",
       "    }\n",
       "\n",
       "    .dataframe thead th {\n",
       "        text-align: right;\n",
       "    }\n",
       "</style>\n",
       "<table border=\"1\" class=\"dataframe\">\n",
       "  <thead>\n",
       "    <tr style=\"text-align: right;\">\n",
       "      <th></th>\n",
       "      <th>text</th>\n",
       "      <th>cleaned</th>\n",
       "      <th>polarity</th>\n",
       "      <th>subjectivity</th>\n",
       "      <th>sentiment</th>\n",
       "      <th>neg</th>\n",
       "      <th>neu</th>\n",
       "      <th>pos</th>\n",
       "      <th>compound</th>\n",
       "    </tr>\n",
       "  </thead>\n",
       "  <tbody>\n",
       "    <tr>\n",
       "      <th>0</th>\n",
       "      <td>Australia Win Series As Smith Misses Century \\...</td>\n",
       "      <td>australia win series as smith misses century s...</td>\n",
       "      <td>0.800000</td>\n",
       "      <td>0.400000</td>\n",
       "      <td>positive</td>\n",
       "      <td>0.044</td>\n",
       "      <td>0.783</td>\n",
       "      <td>0.173</td>\n",
       "      <td>0.7650</td>\n",
       "    </tr>\n",
       "    <tr>\n",
       "      <th>1</th>\n",
       "      <td>The Two&amp;amp;Storey Apple Pacific Centre Store ...</td>\n",
       "      <td>the two amp storey apple pacific centre store ...</td>\n",
       "      <td>0.151515</td>\n",
       "      <td>0.393939</td>\n",
       "      <td>positive</td>\n",
       "      <td>0.000</td>\n",
       "      <td>0.920</td>\n",
       "      <td>0.080</td>\n",
       "      <td>0.5267</td>\n",
       "    </tr>\n",
       "    <tr>\n",
       "      <th>2</th>\n",
       "      <td>#NowPlaying: Ground Zero  - 9/27/22: KHOSTA 2 ...</td>\n",
       "      <td>nowplaying ground zero 9 27 22 khosta 2 the d...</td>\n",
       "      <td>0.000000</td>\n",
       "      <td>0.000000</td>\n",
       "      <td>negative</td>\n",
       "      <td>0.290</td>\n",
       "      <td>0.710</td>\n",
       "      <td>0.000</td>\n",
       "      <td>-0.8750</td>\n",
       "    </tr>\n",
       "    <tr>\n",
       "      <th>3</th>\n",
       "      <td>Get Excited iphone Lovers! iphone 14 Pro Max w...</td>\n",
       "      <td>get excited iphone lovers iphone 14 pro max wi...</td>\n",
       "      <td>0.375000</td>\n",
       "      <td>0.750000</td>\n",
       "      <td>positive</td>\n",
       "      <td>0.000</td>\n",
       "      <td>0.784</td>\n",
       "      <td>0.216</td>\n",
       "      <td>0.7003</td>\n",
       "    </tr>\n",
       "    <tr>\n",
       "      <th>4</th>\n",
       "      <td>Content analysis:\\nThis article scores 86/100....</td>\n",
       "      <td>content analysis this article scores 86 100 th...</td>\n",
       "      <td>0.100000</td>\n",
       "      <td>0.400000</td>\n",
       "      <td>negative</td>\n",
       "      <td>0.140</td>\n",
       "      <td>0.860</td>\n",
       "      <td>0.000</td>\n",
       "      <td>-0.3818</td>\n",
       "    </tr>\n",
       "  </tbody>\n",
       "</table>\n",
       "</div>"
      ],
      "text/plain": [
       "                                                text  \\\n",
       "0  Australia Win Series As Smith Misses Century \\...   \n",
       "1  The Two&amp;Storey Apple Pacific Centre Store ...   \n",
       "2  #NowPlaying: Ground Zero  - 9/27/22: KHOSTA 2 ...   \n",
       "3  Get Excited iphone Lovers! iphone 14 Pro Max w...   \n",
       "4  Content analysis:\\nThis article scores 86/100....   \n",
       "\n",
       "                                             cleaned  polarity  subjectivity  \\\n",
       "0  australia win series as smith misses century s...  0.800000      0.400000   \n",
       "1  the two amp storey apple pacific centre store ...  0.151515      0.393939   \n",
       "2   nowplaying ground zero 9 27 22 khosta 2 the d...  0.000000      0.000000   \n",
       "3  get excited iphone lovers iphone 14 pro max wi...  0.375000      0.750000   \n",
       "4  content analysis this article scores 86 100 th...  0.100000      0.400000   \n",
       "\n",
       "  sentiment    neg    neu    pos  compound  \n",
       "0  positive  0.044  0.783  0.173    0.7650  \n",
       "1  positive  0.000  0.920  0.080    0.5267  \n",
       "2  negative  0.290  0.710  0.000   -0.8750  \n",
       "3  positive  0.000  0.784  0.216    0.7003  \n",
       "4  negative  0.140  0.860  0.000   -0.3818  "
      ]
     },
     "execution_count": 12,
     "metadata": {},
     "output_type": "execute_result"
    }
   ],
   "source": [
    "#Calculating Negative, Positive, Neutral and Compound values\n",
    "tweet_list_df[['polarity', 'subjectivity']] = tweet_list_df['cleaned'].apply(lambda Text: pd.Series(TextBlob(Text).sentiment))\n",
    "for index, row in tweet_list_df['cleaned'].iteritems():\n",
    "    score = SentimentIntensityAnalyzer().polarity_scores(row)\n",
    "    neg = score['neg']\n",
    "    neu = score['neu']\n",
    "    pos = score['pos']\n",
    "    comp = score['compound']\n",
    "    if comp <= -0.05:\n",
    "        tweet_list_df.loc[index, 'sentiment'] = \"negative\"\n",
    "    elif comp >= 0.05:\n",
    "        tweet_list_df.loc[index, 'sentiment'] = \"positive\"\n",
    "    else:\n",
    "        tweet_list_df.loc[index, 'sentiment'] = \"neutral\"\n",
    "    tweet_list_df.loc[index, 'neg'] = neg\n",
    "    tweet_list_df.loc[index, 'neu'] = neu\n",
    "    tweet_list_df.loc[index, 'pos'] = pos\n",
    "    tweet_list_df.loc[index, 'compound'] = comp\n",
    "\n",
    "tweet_list_df.head(5)"
   ]
  },
  {
   "cell_type": "markdown",
   "id": "73f27db7",
   "metadata": {},
   "source": [
    "# Model buliding "
   ]
  },
  {
   "cell_type": "code",
   "execution_count": 13,
   "id": "6af9430c",
   "metadata": {},
   "outputs": [
    {
     "data": {
      "text/html": [
       "<div>\n",
       "<style scoped>\n",
       "    .dataframe tbody tr th:only-of-type {\n",
       "        vertical-align: middle;\n",
       "    }\n",
       "\n",
       "    .dataframe tbody tr th {\n",
       "        vertical-align: top;\n",
       "    }\n",
       "\n",
       "    .dataframe thead th {\n",
       "        text-align: right;\n",
       "    }\n",
       "</style>\n",
       "<table border=\"1\" class=\"dataframe\">\n",
       "  <thead>\n",
       "    <tr style=\"text-align: right;\">\n",
       "      <th></th>\n",
       "      <th>cleaned</th>\n",
       "      <th>sentiment</th>\n",
       "    </tr>\n",
       "  </thead>\n",
       "  <tbody>\n",
       "    <tr>\n",
       "      <th>0</th>\n",
       "      <td>australia win series as smith misses century s...</td>\n",
       "      <td>positive</td>\n",
       "    </tr>\n",
       "    <tr>\n",
       "      <th>1</th>\n",
       "      <td>the two amp storey apple pacific centre store ...</td>\n",
       "      <td>positive</td>\n",
       "    </tr>\n",
       "    <tr>\n",
       "      <th>2</th>\n",
       "      <td>nowplaying ground zero 9 27 22 khosta 2 the d...</td>\n",
       "      <td>negative</td>\n",
       "    </tr>\n",
       "    <tr>\n",
       "      <th>3</th>\n",
       "      <td>get excited iphone lovers iphone 14 pro max wi...</td>\n",
       "      <td>positive</td>\n",
       "    </tr>\n",
       "    <tr>\n",
       "      <th>4</th>\n",
       "      <td>content analysis this article scores 86 100 th...</td>\n",
       "      <td>negative</td>\n",
       "    </tr>\n",
       "  </tbody>\n",
       "</table>\n",
       "</div>"
      ],
      "text/plain": [
       "                                             cleaned sentiment\n",
       "0  australia win series as smith misses century s...  positive\n",
       "1  the two amp storey apple pacific centre store ...  positive\n",
       "2   nowplaying ground zero 9 27 22 khosta 2 the d...  negative\n",
       "3  get excited iphone lovers iphone 14 pro max wi...  positive\n",
       "4  content analysis this article scores 86 100 th...  negative"
      ]
     },
     "execution_count": 13,
     "metadata": {},
     "output_type": "execute_result"
    }
   ],
   "source": [
    "tweet_prediction=tweet_list_df[[\"cleaned\",\"sentiment\"]]\n",
    "tweet_prediction.head()"
   ]
  },
  {
   "cell_type": "code",
   "execution_count": 14,
   "id": "01a940f4",
   "metadata": {},
   "outputs": [
    {
     "data": {
      "text/plain": [
       "array(['positive', 'negative', 'neutral'], dtype=object)"
      ]
     },
     "execution_count": 14,
     "metadata": {},
     "output_type": "execute_result"
    }
   ],
   "source": [
    "tweet_prediction[\"sentiment\"].unique()"
   ]
  },
  {
   "cell_type": "code",
   "execution_count": 15,
   "id": "56f4bf61",
   "metadata": {
    "scrolled": false
   },
   "outputs": [
    {
     "data": {
      "text/plain": [
       "positive    4749\n",
       "neutral     3647\n",
       "negative    1593\n",
       "Name: sentiment, dtype: int64"
      ]
     },
     "execution_count": 15,
     "metadata": {},
     "output_type": "execute_result"
    }
   ],
   "source": [
    "tweet_prediction[\"sentiment\"].value_counts()"
   ]
  },
  {
   "cell_type": "markdown",
   "id": "39600847",
   "metadata": {},
   "source": [
    "# Handling Categorical value using replace"
   ]
  },
  {
   "cell_type": "code",
   "execution_count": 16,
   "id": "8621ed31",
   "metadata": {
    "scrolled": true
   },
   "outputs": [
    {
     "name": "stderr",
     "output_type": "stream",
     "text": [
      "C:\\Users\\GK\\AppData\\Local\\Temp\\ipykernel_1936\\1407482369.py:1: SettingWithCopyWarning: \n",
      "A value is trying to be set on a copy of a slice from a DataFrame\n",
      "\n",
      "See the caveats in the documentation: https://pandas.pydata.org/pandas-docs/stable/user_guide/indexing.html#returning-a-view-versus-a-copy\n",
      "  tweet_prediction[\"sentiment\"].replace({\"neutral\": 0, \"positive\": 1, \"negative\": -1},inplace=True)\n"
     ]
    },
    {
     "data": {
      "text/html": [
       "<div>\n",
       "<style scoped>\n",
       "    .dataframe tbody tr th:only-of-type {\n",
       "        vertical-align: middle;\n",
       "    }\n",
       "\n",
       "    .dataframe tbody tr th {\n",
       "        vertical-align: top;\n",
       "    }\n",
       "\n",
       "    .dataframe thead th {\n",
       "        text-align: right;\n",
       "    }\n",
       "</style>\n",
       "<table border=\"1\" class=\"dataframe\">\n",
       "  <thead>\n",
       "    <tr style=\"text-align: right;\">\n",
       "      <th></th>\n",
       "      <th>cleaned</th>\n",
       "      <th>sentiment</th>\n",
       "    </tr>\n",
       "  </thead>\n",
       "  <tbody>\n",
       "    <tr>\n",
       "      <th>0</th>\n",
       "      <td>australia win series as smith misses century s...</td>\n",
       "      <td>1</td>\n",
       "    </tr>\n",
       "    <tr>\n",
       "      <th>1</th>\n",
       "      <td>the two amp storey apple pacific centre store ...</td>\n",
       "      <td>1</td>\n",
       "    </tr>\n",
       "    <tr>\n",
       "      <th>2</th>\n",
       "      <td>nowplaying ground zero 9 27 22 khosta 2 the d...</td>\n",
       "      <td>-1</td>\n",
       "    </tr>\n",
       "    <tr>\n",
       "      <th>3</th>\n",
       "      <td>get excited iphone lovers iphone 14 pro max wi...</td>\n",
       "      <td>1</td>\n",
       "    </tr>\n",
       "    <tr>\n",
       "      <th>4</th>\n",
       "      <td>content analysis this article scores 86 100 th...</td>\n",
       "      <td>-1</td>\n",
       "    </tr>\n",
       "    <tr>\n",
       "      <th>...</th>\n",
       "      <td>...</td>\n",
       "      <td>...</td>\n",
       "    </tr>\n",
       "    <tr>\n",
       "      <th>9984</th>\n",
       "      <td>how to use linkedin for marketingstrategy mark...</td>\n",
       "      <td>0</td>\n",
       "    </tr>\n",
       "    <tr>\n",
       "      <th>9985</th>\n",
       "      <td>ios what specific odds for loot boxes are requ...</td>\n",
       "      <td>1</td>\n",
       "    </tr>\n",
       "    <tr>\n",
       "      <th>9986</th>\n",
       "      <td>13 m1 macbook air with 256gb sdd on sale for o...</td>\n",
       "      <td>0</td>\n",
       "    </tr>\n",
       "    <tr>\n",
       "      <th>9987</th>\n",
       "      <td>clearance 2020 10 9 inch ipad airs available s...</td>\n",
       "      <td>0</td>\n",
       "    </tr>\n",
       "    <tr>\n",
       "      <th>9988</th>\n",
       "      <td>24 m1 imac with 8 core cpu 7 core gpu availabl...</td>\n",
       "      <td>1</td>\n",
       "    </tr>\n",
       "  </tbody>\n",
       "</table>\n",
       "<p>9989 rows × 2 columns</p>\n",
       "</div>"
      ],
      "text/plain": [
       "                                                cleaned  sentiment\n",
       "0     australia win series as smith misses century s...          1\n",
       "1     the two amp storey apple pacific centre store ...          1\n",
       "2      nowplaying ground zero 9 27 22 khosta 2 the d...         -1\n",
       "3     get excited iphone lovers iphone 14 pro max wi...          1\n",
       "4     content analysis this article scores 86 100 th...         -1\n",
       "...                                                 ...        ...\n",
       "9984  how to use linkedin for marketingstrategy mark...          0\n",
       "9985  ios what specific odds for loot boxes are requ...          1\n",
       "9986  13 m1 macbook air with 256gb sdd on sale for o...          0\n",
       "9987  clearance 2020 10 9 inch ipad airs available s...          0\n",
       "9988  24 m1 imac with 8 core cpu 7 core gpu availabl...          1\n",
       "\n",
       "[9989 rows x 2 columns]"
      ]
     },
     "execution_count": 16,
     "metadata": {},
     "output_type": "execute_result"
    }
   ],
   "source": [
    "tweet_prediction[\"sentiment\"].replace({\"neutral\": 0, \"positive\": 1, \"negative\": -1},inplace=True)\n",
    "tweet_prediction"
   ]
  },
  {
   "cell_type": "markdown",
   "id": "58b5c2b7",
   "metadata": {},
   "source": [
    "# Train_test_split"
   ]
  },
  {
   "cell_type": "code",
   "execution_count": 17,
   "id": "78671833",
   "metadata": {},
   "outputs": [],
   "source": [
    "from sklearn.model_selection import train_test_split\n",
    "x_train,x_test,y_train,y_test=train_test_split(tweet_prediction.cleaned,tweet_prediction.sentiment,test_size=0.3)"
   ]
  },
  {
   "cell_type": "markdown",
   "id": "ebd819a0",
   "metadata": {},
   "source": [
    "# Handling categorical value using the countvectorizer"
   ]
  },
  {
   "cell_type": "code",
   "execution_count": 18,
   "id": "6ffdfda6",
   "metadata": {
    "scrolled": true
   },
   "outputs": [],
   "source": [
    "ct=CountVectorizer()\n",
    "ct.fit(x_train)\n",
    "x_train=ct.transform(x_train)\n",
    "x_test=ct.transform(x_test)"
   ]
  },
  {
   "cell_type": "markdown",
   "id": "48294b9a",
   "metadata": {},
   "source": [
    "# Model development using Multinomial naive bayes"
   ]
  },
  {
   "cell_type": "code",
   "execution_count": 19,
   "id": "459e8b9c",
   "metadata": {},
   "outputs": [
    {
     "data": {
      "text/plain": [
       "0.7751084417751084"
      ]
     },
     "execution_count": 19,
     "metadata": {},
     "output_type": "execute_result"
    }
   ],
   "source": [
    "model=MultinomialNB(alpha=0.0000000001)\n",
    "model.fit(x_train,y_train)\n",
    "model.score(x_test,y_test)"
   ]
  },
  {
   "cell_type": "markdown",
   "id": "1881afbe",
   "metadata": {},
   "source": [
    "# Donut chart "
   ]
  },
  {
   "cell_type": "code",
   "execution_count": 20,
   "id": "da9089a6",
   "metadata": {},
   "outputs": [],
   "source": [
    "tweet_list_df_negative = tweet_list_df[tweet_list_df[\"sentiment\"]==\"negative\"]\n",
    "tweet_list_df_positive = tweet_list_df[tweet_list_df[\"sentiment\"]==\"positive\"]\n",
    "tweet_list_df_neutral = tweet_list_df[tweet_list_df[\"sentiment\"]==\"neutral\"]"
   ]
  },
  {
   "cell_type": "code",
   "execution_count": 21,
   "id": "00813f5a",
   "metadata": {},
   "outputs": [],
   "source": [
    "#Function for count_values_in single columns\n",
    "def count_values_in_column(data,feature):\n",
    "    total=data.loc[:,feature].value_counts(dropna=False)\n",
    "    percentage=round(data.loc[:,feature].value_counts(dropna=False,normalize=True)*100,2)\n",
    "    return pd.concat([total,percentage],axis=1,keys=['Total','Percentage'])"
   ]
  },
  {
   "cell_type": "code",
   "execution_count": 22,
   "id": "53144b23",
   "metadata": {},
   "outputs": [
    {
     "data": {
      "text/html": [
       "<div>\n",
       "<style scoped>\n",
       "    .dataframe tbody tr th:only-of-type {\n",
       "        vertical-align: middle;\n",
       "    }\n",
       "\n",
       "    .dataframe tbody tr th {\n",
       "        vertical-align: top;\n",
       "    }\n",
       "\n",
       "    .dataframe thead th {\n",
       "        text-align: right;\n",
       "    }\n",
       "</style>\n",
       "<table border=\"1\" class=\"dataframe\">\n",
       "  <thead>\n",
       "    <tr style=\"text-align: right;\">\n",
       "      <th></th>\n",
       "      <th>Total</th>\n",
       "      <th>Percentage</th>\n",
       "    </tr>\n",
       "  </thead>\n",
       "  <tbody>\n",
       "    <tr>\n",
       "      <th>positive</th>\n",
       "      <td>4749</td>\n",
       "      <td>47.54</td>\n",
       "    </tr>\n",
       "    <tr>\n",
       "      <th>neutral</th>\n",
       "      <td>3647</td>\n",
       "      <td>36.51</td>\n",
       "    </tr>\n",
       "    <tr>\n",
       "      <th>negative</th>\n",
       "      <td>1593</td>\n",
       "      <td>15.95</td>\n",
       "    </tr>\n",
       "  </tbody>\n",
       "</table>\n",
       "</div>"
      ],
      "text/plain": [
       "          Total  Percentage\n",
       "positive   4749       47.54\n",
       "neutral    3647       36.51\n",
       "negative   1593       15.95"
      ]
     },
     "execution_count": 22,
     "metadata": {},
     "output_type": "execute_result"
    }
   ],
   "source": [
    "#Count_values for sentiment\n",
    "count_values_in_column(tweet_list_df,\"sentiment\")"
   ]
  },
  {
   "cell_type": "code",
   "execution_count": 23,
   "id": "ecf19222",
   "metadata": {},
   "outputs": [
    {
     "data": {
      "image/png": "[encoded data removed]",
      "text/plain": [
       "<Figure size 640x480 with 1 Axes>"
      ]
     },
     "metadata": {},
     "output_type": "display_data"
    }
   ],
   "source": [
    "# create data for Pie Chart\n",
    "pichart = count_values_in_column(tweet_list_df,\"sentiment\")\n",
    "# names= pc.index\n",
    "# size=pc[\"Percentage\"]\n",
    "\n",
    "names= pichart.index\n",
    "size=pichart[\"Percentage\"]\n",
    "\n",
    "# Create a circle for the center of the plot\n",
    "my_circle=plt.Circle( (0,0), 0.7, color='white')\n",
    "plt.pie(size, labels=names, colors=['green','blue','red'])\n",
    "p=plt.gcf()\n",
    "p.gca().add_artist(my_circle)\n",
    "plt.show()"
   ]
  },
  {
   "cell_type": "markdown",
   "id": "1c2cab24",
   "metadata": {},
   "source": [
    "# Conclusion"
   ]
  },
  {
   "cell_type": "markdown",
   "id": "4c463175",
   "metadata": {},
   "source": [
    "## Since the tweet are in the postive manner so the people are loving the apple brand and the prediction is also pretty good "
   ]
  }
 ],
 "metadata": {
  "kernelspec": {
   "display_name": "Python 3 (ipykernel)",
   "language": "python",
   "name": "python3"
  },
  "language_info": {
   "codemirror_mode": {
    "name": "ipython",
    "version": 3
   },
   "file_extension": ".py",
   "mimetype": "text/x-python",
   "name": "python",
   "nbconvert_exporter": "python",
   "pygments_lexer": "ipython3",
   "version": "3.9.13"
  }
 },
 "nbformat": 4,
 "nbformat_minor": 5
}
